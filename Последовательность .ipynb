{
 "cells": [
  {
   "cell_type": "code",
   "execution_count": 1,
   "metadata": {},
   "outputs": [
    {
     "name": "stdout",
     "output_type": "stream",
     "text": [
      "4\n",
      "1 2 2 3 "
     ]
    }
   ],
   "source": [
    "n=int(input())\n",
    "a=[i for i in range(n+1)]\n",
    "del a[0]\n",
    "s=0\n",
    "if n==1:\n",
    "  print(1)\n",
    "if n>1:  \n",
    " for i in set(a):\n",
    "   if a.count(a[i])<a[i]:\n",
    "     a.insert(i,a[i])\n",
    "   elif a.count(a[i])==a[i]:\n",
    "     i+=1\n",
    " for i in a[0:n]:\n",
    "   print(i,end=' ')"
   ]
  }
 ],
 "metadata": {
  "kernelspec": {
   "display_name": "Python 3",
   "language": "python",
   "name": "python3"
  },
  "language_info": {
   "codemirror_mode": {
    "name": "ipython",
    "version": 3
   },
   "file_extension": ".py",
   "mimetype": "text/x-python",
   "name": "python",
   "nbconvert_exporter": "python",
   "pygments_lexer": "ipython3",
   "version": "3.7.3"
  }
 },
 "nbformat": 4,
 "nbformat_minor": 2
}
