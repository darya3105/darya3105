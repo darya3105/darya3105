{
 "cells": [
  {
   "cell_type": "code",
   "execution_count": null,
   "metadata": {},
   "outputs": [],
   "source": [
    "number=int(input())\n",
    "d={}\n",
    "d['север']=0\n",
    "d['восток']=0\n",
    "vostok=0\n",
    "sever=0\n",
    "for i in range(number):\n",
    "  i=input().lower().split()\n",
    "  i[1]=int(i[1])\n",
    "  if i[0]=='север':\n",
    "   d['север']+=i[1]\n",
    "  elif i[0]=='юг':\n",
    "    d['север']-=i[1]\n",
    "  elif i[0]=='восток':\n",
    "    d['восток']+=i[1]\n",
    "  elif i[0]=='запад':\n",
    "    d['восток']-=i[1]\n",
    "print(d.setdefault('восток',0),d.setdefault('север',0))"
   ]
  }
 ],
 "metadata": {
  "kernelspec": {
   "display_name": "Python 3",
   "language": "python",
   "name": "python3"
  },
  "language_info": {
   "codemirror_mode": {
    "name": "ipython",
    "version": 3
   },
   "file_extension": ".py",
   "mimetype": "text/x-python",
   "name": "python",
   "nbconvert_exporter": "python",
   "pygments_lexer": "ipython3",
   "version": "3.7.3"
  }
 },
 "nbformat": 4,
 "nbformat_minor": 2
}
