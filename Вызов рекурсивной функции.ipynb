{
 "cells": [
  {
   "cell_type": "code",
   "execution_count": null,
   "metadata": {},
   "outputs": [],
   "source": [
    "namespaces={'global':None}\n",
    "variables={'global':[]}\n",
    "list=[]\n",
    "numbers=int(input())\n",
    "\n",
    "def recursive(space,var):\n",
    "    if space in variables.keys(): \n",
    "        for key,value in variables.items():\n",
    "            if var in variables.get(space):\n",
    "                return space\n",
    "            if var not in variables.get(space):\n",
    "                return recursive(namespaces.get(space),var)\n",
    "    elif space not in variables.keys():\n",
    "      if space in namespaces.keys():\n",
    "        return recursive(namespaces.get(space),var)\n",
    "      if space not in namespaces.keys():\n",
    "        return 'None'\n",
    "         \n",
    "for number in range(numbers):\n",
    "    x=input().split()\n",
    "    if x[0]=='create':\n",
    "        namespaces[x[1]]=x[2]\n",
    "    if x[0]=='add':\n",
    "      if x[1] in variables:\n",
    "        variables[x[1]].append(x[2])\n",
    "      if x[1] not in variables:\n",
    "        variables[x[1]]=[x[2]]\n",
    "    if x[0]=='get':\n",
    "        k=recursive(x[1],x[2])\n",
    "        list.append(k)\n",
    "for i in list:\n",
    "  print(i)"
   ]
  }
 ],
 "metadata": {
  "kernelspec": {
   "display_name": "Python 3",
   "language": "python",
   "name": "python3"
  },
  "language_info": {
   "codemirror_mode": {
    "name": "ipython",
    "version": 3
   },
   "file_extension": ".py",
   "mimetype": "text/x-python",
   "name": "python",
   "nbconvert_exporter": "python",
   "pygments_lexer": "ipython3",
   "version": "3.7.3"
  }
 },
 "nbformat": 4,
 "nbformat_minor": 2
}
