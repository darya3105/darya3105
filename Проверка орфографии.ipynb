{
 "cells": [
  {
   "cell_type": "code",
   "execution_count": 1,
   "metadata": {},
   "outputs": [
    {
     "name": "stdout",
     "output_type": "stream",
     "text": [
      "4\n",
      "champions\n",
      "we\n",
      "are\n",
      "Python\n",
      "3\n",
      "We are the champignons\n",
      "We Are The Champions\n",
      "Pyton\n",
      "champignons\n",
      "the\n",
      "pyton\n"
     ]
    }
   ],
   "source": [
    "#На вход программе первой строкой передаётся \n",
    "#количество dd известных нам слов, после чего\n",
    "#на dd строках указываются эти слова. Затем \n",
    "#передаётся количество ll строк текста для проверки,\n",
    "#после чего ll строк текста.\n",
    "\n",
    "a=int(input())\n",
    "list=[]\n",
    "list1=[]\n",
    "for i in range(a):\n",
    "  if i<=a:\n",
    "    x=input()\n",
    "    x1=x.lower().split()\n",
    "    list+=x1\n",
    "  else:\n",
    "    break\n",
    "b=int(input())\n",
    "for i in range(b):\n",
    "  if i<=b:\n",
    "    y=input()\n",
    "    y1=y.lower().split(' ')\n",
    "    for j in range(len(y1)):\n",
    "      if y1[j] not in list:\n",
    "        list1.append(y1[j])\n",
    "  else:\n",
    "    break\n",
    "set_list1=set(list1)  \n",
    "for i,n in enumerate(set_list1):\n",
    "  print(n)t"
   ]
  },
  {
   "cell_type": "code",
   "execution_count": null,
   "metadata": {},
   "outputs": [],
   "source": []
  }
 ],
 "metadata": {
  "kernelspec": {
   "display_name": "Python 3",
   "language": "python",
   "name": "python3"
  },
  "language_info": {
   "codemirror_mode": {
    "name": "ipython",
    "version": 3
   },
   "file_extension": ".py",
   "mimetype": "text/x-python",
   "name": "python",
   "nbconvert_exporter": "python",
   "pygments_lexer": "ipython3",
   "version": "3.7.3"
  }
 },
 "nbformat": 4,
 "nbformat_minor": 2
}
